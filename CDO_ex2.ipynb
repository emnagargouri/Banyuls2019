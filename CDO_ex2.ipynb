{
 "cells": [
  {
   "cell_type": "markdown",
   "metadata": {},
   "source": [
    "Using MOMOHC-HadGEM2-ES/RCA4 as exemple"
   ]
  },
  {
   "cell_type": "code",
   "execution_count": null,
   "metadata": {},
   "outputs": [
    {
     "name": "stdout",
     "output_type": "stream",
     "text": [
      "/homel/sthao/2_Code/Thao/Banyuls2019/Corre\n"
     ]
    }
   ],
   "source": [
    "pwd\n",
    "\n",
    "gcm=\"MOHC-HadGEM2-ES\"\n",
    "rcm=\"RCA4\"\n",
    "var=\"tas\"\n",
    "\n",
    "ncfile=\"merged.nc\" \n",
    "\n",
    "ncfiles=$(find CORDEX -name \"${var}_EUR-11_${gcm}_*_r1i1p1_*${rcm}*.nc\")\n",
    "cdo mergetime $ncfiles merged.nc\n"
   ]
  },
  {
   "cell_type": "code",
   "execution_count": null,
   "metadata": {},
   "outputs": [],
   "source": [
    "# moyennes saisonnières sur JJA\n",
    "seas_x=\"JJA\"\n",
    "cdo seasmean -selseas,${seas_x} $ncfile  meanjja.nc\n"
   ]
  },
  {
   "cell_type": "code",
   "execution_count": null,
   "metadata": {},
   "outputs": [],
   "source": [
    "# min / max\n",
    "# yearmin, yearmax\n",
    "cdo yearmean $ncfile  meanyear.nc\n"
   ]
  },
  {
   "cell_type": "code",
   "execution_count": null,
   "metadata": {},
   "outputs": [],
   "source": [
    "# clim\n",
    "cdo timmean -yearmean $ncfile clim.nc\n"
   ]
  },
  {
   "cell_type": "code",
   "execution_count": 2,
   "metadata": {},
   "outputs": [
    {
     "name": "stdout",
     "output_type": "stream",
     "text": [
      "\n",
      "cdo seldate: Open failed on >merged.nc<\n",
      "No such file or directory\n",
      "\n",
      "cdo ymonmean: Open failed on >ref_1m.nc<\n",
      "No such file or directory\n",
      "\n",
      "cdo ymonsub: Open failed on >merged.nc<\n",
      "No such file or directory\n",
      "\n",
      "cdo ymonsub: Open failed on >merged.nc<\n",
      "No such file or directory\n"
     ]
    },
    {
     "ename": "",
     "evalue": "1",
     "output_type": "error",
     "traceback": []
    }
   ],
   "source": [
    "# anomalies\n",
    "cdo seldate,1971-01-01,2000-12-31 $ncfile ref_1m.nc\n",
    "cdo ymonmean ref_1m.nc ymonmean.nc\n",
    "cdo ymonsub $ncfile monmean.nc anom_1m.nc\n",
    "\n",
    "# Or by combining commands\n",
    "cdo ymonsub $ncfile -ymonmean -seldate,1971-01-01,2000-12-31 $ncfile anom_1m.n"
   ]
  }
 ],
 "metadata": {
  "kernelspec": {
   "display_name": "Bash",
   "language": "bash",
   "name": "bash"
  },
  "language_info": {
   "codemirror_mode": "shell",
   "file_extension": ".sh",
   "mimetype": "text/x-sh",
   "name": "bash"
  }
 },
 "nbformat": 4,
 "nbformat_minor": 2
}
